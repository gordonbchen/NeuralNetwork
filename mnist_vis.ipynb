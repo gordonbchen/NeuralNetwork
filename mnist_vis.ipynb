{
 "cells": [
  {
   "cell_type": "code",
   "execution_count": 1,
   "metadata": {},
   "outputs": [],
   "source": [
    "import numpy as np\n",
    "import pandas as pd\n",
    "import matplotlib.pyplot as plt"
   ]
  },
  {
   "cell_type": "code",
   "execution_count": 2,
   "metadata": {},
   "outputs": [
    {
     "data": {
      "text/html": [
       "<div>\n",
       "<style scoped>\n",
       "    .dataframe tbody tr th:only-of-type {\n",
       "        vertical-align: middle;\n",
       "    }\n",
       "\n",
       "    .dataframe tbody tr th {\n",
       "        vertical-align: top;\n",
       "    }\n",
       "\n",
       "    .dataframe thead th {\n",
       "        text-align: right;\n",
       "    }\n",
       "</style>\n",
       "<table border=\"1\" class=\"dataframe\">\n",
       "  <thead>\n",
       "    <tr style=\"text-align: right;\">\n",
       "      <th></th>\n",
       "      <th>label</th>\n",
       "      <th>pixel0</th>\n",
       "      <th>pixel1</th>\n",
       "      <th>pixel2</th>\n",
       "      <th>pixel3</th>\n",
       "      <th>pixel4</th>\n",
       "      <th>pixel5</th>\n",
       "      <th>pixel6</th>\n",
       "      <th>pixel7</th>\n",
       "      <th>pixel8</th>\n",
       "      <th>...</th>\n",
       "      <th>pixel774</th>\n",
       "      <th>pixel775</th>\n",
       "      <th>pixel776</th>\n",
       "      <th>pixel777</th>\n",
       "      <th>pixel778</th>\n",
       "      <th>pixel779</th>\n",
       "      <th>pixel780</th>\n",
       "      <th>pixel781</th>\n",
       "      <th>pixel782</th>\n",
       "      <th>pixel783</th>\n",
       "    </tr>\n",
       "  </thead>\n",
       "  <tbody>\n",
       "    <tr>\n",
       "      <th>0</th>\n",
       "      <td>1</td>\n",
       "      <td>0</td>\n",
       "      <td>0</td>\n",
       "      <td>0</td>\n",
       "      <td>0</td>\n",
       "      <td>0</td>\n",
       "      <td>0</td>\n",
       "      <td>0</td>\n",
       "      <td>0</td>\n",
       "      <td>0</td>\n",
       "      <td>...</td>\n",
       "      <td>0</td>\n",
       "      <td>0</td>\n",
       "      <td>0</td>\n",
       "      <td>0</td>\n",
       "      <td>0</td>\n",
       "      <td>0</td>\n",
       "      <td>0</td>\n",
       "      <td>0</td>\n",
       "      <td>0</td>\n",
       "      <td>0</td>\n",
       "    </tr>\n",
       "    <tr>\n",
       "      <th>1</th>\n",
       "      <td>0</td>\n",
       "      <td>0</td>\n",
       "      <td>0</td>\n",
       "      <td>0</td>\n",
       "      <td>0</td>\n",
       "      <td>0</td>\n",
       "      <td>0</td>\n",
       "      <td>0</td>\n",
       "      <td>0</td>\n",
       "      <td>0</td>\n",
       "      <td>...</td>\n",
       "      <td>0</td>\n",
       "      <td>0</td>\n",
       "      <td>0</td>\n",
       "      <td>0</td>\n",
       "      <td>0</td>\n",
       "      <td>0</td>\n",
       "      <td>0</td>\n",
       "      <td>0</td>\n",
       "      <td>0</td>\n",
       "      <td>0</td>\n",
       "    </tr>\n",
       "    <tr>\n",
       "      <th>2</th>\n",
       "      <td>1</td>\n",
       "      <td>0</td>\n",
       "      <td>0</td>\n",
       "      <td>0</td>\n",
       "      <td>0</td>\n",
       "      <td>0</td>\n",
       "      <td>0</td>\n",
       "      <td>0</td>\n",
       "      <td>0</td>\n",
       "      <td>0</td>\n",
       "      <td>...</td>\n",
       "      <td>0</td>\n",
       "      <td>0</td>\n",
       "      <td>0</td>\n",
       "      <td>0</td>\n",
       "      <td>0</td>\n",
       "      <td>0</td>\n",
       "      <td>0</td>\n",
       "      <td>0</td>\n",
       "      <td>0</td>\n",
       "      <td>0</td>\n",
       "    </tr>\n",
       "    <tr>\n",
       "      <th>3</th>\n",
       "      <td>4</td>\n",
       "      <td>0</td>\n",
       "      <td>0</td>\n",
       "      <td>0</td>\n",
       "      <td>0</td>\n",
       "      <td>0</td>\n",
       "      <td>0</td>\n",
       "      <td>0</td>\n",
       "      <td>0</td>\n",
       "      <td>0</td>\n",
       "      <td>...</td>\n",
       "      <td>0</td>\n",
       "      <td>0</td>\n",
       "      <td>0</td>\n",
       "      <td>0</td>\n",
       "      <td>0</td>\n",
       "      <td>0</td>\n",
       "      <td>0</td>\n",
       "      <td>0</td>\n",
       "      <td>0</td>\n",
       "      <td>0</td>\n",
       "    </tr>\n",
       "    <tr>\n",
       "      <th>4</th>\n",
       "      <td>0</td>\n",
       "      <td>0</td>\n",
       "      <td>0</td>\n",
       "      <td>0</td>\n",
       "      <td>0</td>\n",
       "      <td>0</td>\n",
       "      <td>0</td>\n",
       "      <td>0</td>\n",
       "      <td>0</td>\n",
       "      <td>0</td>\n",
       "      <td>...</td>\n",
       "      <td>0</td>\n",
       "      <td>0</td>\n",
       "      <td>0</td>\n",
       "      <td>0</td>\n",
       "      <td>0</td>\n",
       "      <td>0</td>\n",
       "      <td>0</td>\n",
       "      <td>0</td>\n",
       "      <td>0</td>\n",
       "      <td>0</td>\n",
       "    </tr>\n",
       "  </tbody>\n",
       "</table>\n",
       "<p>5 rows × 785 columns</p>\n",
       "</div>"
      ],
      "text/plain": [
       "   label  pixel0  pixel1  pixel2  pixel3  pixel4  pixel5  pixel6  pixel7  \\\n",
       "0      1       0       0       0       0       0       0       0       0   \n",
       "1      0       0       0       0       0       0       0       0       0   \n",
       "2      1       0       0       0       0       0       0       0       0   \n",
       "3      4       0       0       0       0       0       0       0       0   \n",
       "4      0       0       0       0       0       0       0       0       0   \n",
       "\n",
       "   pixel8  ...  pixel774  pixel775  pixel776  pixel777  pixel778  pixel779  \\\n",
       "0       0  ...         0         0         0         0         0         0   \n",
       "1       0  ...         0         0         0         0         0         0   \n",
       "2       0  ...         0         0         0         0         0         0   \n",
       "3       0  ...         0         0         0         0         0         0   \n",
       "4       0  ...         0         0         0         0         0         0   \n",
       "\n",
       "   pixel780  pixel781  pixel782  pixel783  \n",
       "0         0         0         0         0  \n",
       "1         0         0         0         0  \n",
       "2         0         0         0         0  \n",
       "3         0         0         0         0  \n",
       "4         0         0         0         0  \n",
       "\n",
       "[5 rows x 785 columns]"
      ]
     },
     "execution_count": 2,
     "metadata": {},
     "output_type": "execute_result"
    }
   ],
   "source": [
    "data = pd.read_csv(\"data/train.csv\")\n",
    "data.head()"
   ]
  },
  {
   "cell_type": "code",
   "execution_count": 3,
   "metadata": {},
   "outputs": [],
   "source": [
    "labels = data['label']\n",
    "\n",
    "images = data.values[:, 1:]\n",
    "images = images / images.max()\n",
    "\n",
    "images = images.reshape(images.shape[0], 28, 28)"
   ]
  },
  {
   "cell_type": "code",
   "execution_count": 4,
   "metadata": {},
   "outputs": [
    {
     "data": {
      "image/png": "[encoded data removed]",
      "text/plain": [
       "<Figure size 640x480 with 1 Axes>"
      ]
     },
     "metadata": {},
     "output_type": "display_data"
    },
    {
     "name": "stdout",
     "output_type": "stream",
     "text": [
      "\n",
      " 0  0  0  0  0  0  0  0  0  0  0  0  0  0  0  0  0  0  0  0  0  0  0  0  0  0  0  0 \n",
      " 0  0  0  0  0  0  0  0  0  0  0  0  0  0  0  0  0  0  0  0  0  0  0  0  0  0  0  0 \n",
      " 0  0  0  0  0  0  0  0  0  0  0  0  0  0  0  0  0  0  0  0  0  0  0  0  0  0  0  0 \n",
      " 0  0  0  0  0  0  0  0  0  0  0  0  0  0  0  0  0  0  0  0  0  0  0  0  0  0  0  0 \n",
      " 0  0  0  0  0  0  0  0  0  0  1  1  5  5  8  3  3  0  0  0  0  0  0  0  0  0  0  0 \n",
      " 0  0  0  0  0  0  0  0  1  3 10 10 10 10 10  9 10  6  1  0  0  0  0  0  0  0  0  0 \n",
      " 0  0  0  0  0  0  0  1  7 10 10 10 10 10 10 10 10 10  9  2  1  0  0  0  0  0  0  0 \n",
      " 0  0  0  0  0  0  0  3 10 10 10 10 10 10 10 10 10 10 10 10  4  0  0  0  0  0  0  0 \n",
      " 0  0  0  0  0  0  2  7 10 10 10 10 10  4  3  8 10 10 10 10 10  3  0  0  0  0  0  0 \n",
      " 0  0  0  0  0  0  7 10 10 10  8  6  6  2  0  0  1  8 10 10 10  7  0  0  0  0  0  0 \n",
      " 0  0  0  0  0  0  7 10 10  3  3  0  0  0  0  0  0  5 10 10 10  8  3  0  0  0  0  0 \n",
      " 0  0  0  0  0  2 10 10 10  1  0  0  0  0  0  0  0  0  3 10 10 10  6  0  0  0  0  0 \n",
      " 0  0  0  0  0  3 10 10  9  1  0  0  0  0  0  0  0  0  1  9 10 10  6  0  0  0  0  0 \n",
      " 0  0  0  0  0  3 10 10  7  0  0  0  0  0  0  0  0  0  0  7 10 10  9  0  0  0  0  0 \n",
      " 0  0  0  0  1  9 10 10 10  1  0  0  0  0  0  0  0  0  0  3 10 10 10  1  0  0  0  0 \n",
      " 0  0  0  0  1 10 10 10 10  1  0  0  0  0  0  0  0  0  0  2 10 10 10  1  0  0  0  0 \n",
      " 0  0  0  0  0  6 10 10 10  1  0  0  0  0  0  0  0  0  0  2 10 10 10  1  0  0  0  0 \n",
      " 0  0  0  0  0  4 10 10 10  8  0  0  0  0  0  0  0  0  1  8 10 10  6  0  0  0  0  0 \n",
      " 0  0  0  0  0  1  8 10 10 10  8  3  0  0  0  0  0  1  6 10 10 10  1  0  0  0  0  0 \n",
      " 0  0  0  0  0  0  2  8 10 10 10  8  2  2  1  2  2  8 10 10 10  7  0  0  0  0  0  0 \n",
      " 0  0  0  0  0  0  0  3 10 10 10 10 10 10  9 10 10 10 10 10 10  3  0  0  0  0  0  0 \n",
      " 0  0  0  0  0  0  0  0  4 10 10 10 10 10 10 10 10 10 10  9  3  0  0  0  0  0  0  0 \n",
      " 0  0  0  0  0  0  0  0  1  7 10 10 10 10 10 10 10 10 10  3  0  0  0  0  0  0  0  0 \n",
      " 0  0  0  0  0  0  0  0  0  0  3  6 10 10 10 10  6  1  1  0  0  0  0  0  0  0  0  0 \n",
      " 0  0  0  0  0  0  0  0  0  0  0  0  0  0  0  0  0  0  0  0  0  0  0  0  0  0  0  0 \n",
      " 0  0  0  0  0  0  0  0  0  0  0  0  0  0  0  0  0  0  0  0  0  0  0  0  0  0  0  0 \n",
      " 0  0  0  0  0  0  0  0  0  0  0  0  0  0  0  0  0  0  0  0  0  0  0  0  0  0  0  0 \n",
      " 0  0  0  0  0  0  0  0  0  0  0  0  0  0  0  0  0  0  0  0  0  0  0  0  0  0  0  0 "
     ]
    }
   ],
   "source": [
    "def create_image(image_index, ax):\n",
    "    image = images[image_index]\n",
    "    label = labels[image_index]\n",
    "\n",
    "    ax.imshow(image, cmap=\"bone\")\n",
    "\n",
    "    # Remove ticks\n",
    "    ax.set(xticks=[], yticks=[])\n",
    "\n",
    "    # Label image.\n",
    "    ax.text(x=0.1, y=0.1, s=str(label), color=\"white\", transform=ax.transAxes)\n",
    "\n",
    "def show_pixel_values(image_index):\n",
    "    image = images[image_index]\n",
    "    for row in range(28):\n",
    "        print()\n",
    "        for col in range(28):\n",
    "            tenths = round(image[row, col] * 10)\n",
    "            print(f\"{tenths : >2}\", end=\" \")\n",
    "\n",
    "fig, ax = plt.subplots()\n",
    "create_image(1, ax)\n",
    "plt.show()\n",
    "\n",
    "show_pixel_values(1)"
   ]
  },
  {
   "cell_type": "code",
   "execution_count": 5,
   "metadata": {},
   "outputs": [
    {
     "data": {
      "image/png": "[encoded data removed]",
      "text/plain": [
       "<Figure size 640x480 with 1 Axes>"
      ]
     },
     "metadata": {},
     "output_type": "display_data"
    }
   ],
   "source": [
    "def plot_vector(vector: np.ndarray, label: str, color: str, ax: plt.Axes) -> None:\n",
    "    ax.arrow(\n",
    "        x=0, y=0, dx=vector[0], dy=vector[1],\n",
    "        label=label, color=color,\n",
    "        head_width=0.1, length_includes_head=True\n",
    "    )\n",
    "\n",
    "def plot_unit_vectors(matrix: np.ndarray, ax: plt.Axes) -> None:\n",
    "    plot_vector(matrix[:, 0], \"x unit\", \"blue\", ax)\n",
    "    plot_vector(matrix[:, 1], \"y unit\", \"red\", ax)\n",
    "\n",
    "\n",
    "fig, ax = plt.subplots()\n",
    "\n",
    "v = np.array([1, 2])\n",
    "m = np.arange(4).reshape(2, 2)\n",
    "\n",
    "plot_vector(np.dot(m, v), str(v), \"green\", ax)\n",
    "plot_unit_vectors(m, ax)\n",
    "\n",
    "# Config ticks and grid.\n",
    "ax.set_xbound(0, 10)\n",
    "ax.set_ybound(0, 10)\n",
    "\n",
    "major_ticks = np.arange(0, 11, 2)\n",
    "minor_ticks = np.arange(0, 11)\n",
    "\n",
    "ax.set_xticks(major_ticks, minor=False)\n",
    "ax.set_xticks(minor_ticks, minor=True)\n",
    "\n",
    "ax.set_yticks(major_ticks, minor=False)\n",
    "ax.set_yticks(minor_ticks, minor=True)\n",
    "\n",
    "plt.grid(which=\"both\")\n",
    "\n",
    "plt.legend()\n",
    "\n",
    "plt.show()"
   ]
  },
  {
   "cell_type": "code",
   "execution_count": 6,
   "metadata": {},
   "outputs": [
    {
     "data": {
      "text/plain": [
       "array([[0, 1],\n",
       "       [2, 3]])"
      ]
     },
     "metadata": {},
     "output_type": "display_data"
    },
    {
     "data": {
      "text/plain": [
       "array([1, 2])"
      ]
     },
     "metadata": {},
     "output_type": "display_data"
    }
   ],
   "source": [
    "display(m, v)"
   ]
  },
  {
   "cell_type": "code",
   "execution_count": 7,
   "metadata": {},
   "outputs": [
    {
     "data": {
      "text/plain": [
       "array([[0, 1, 2],\n",
       "       [3, 4, 5]])"
      ]
     },
     "metadata": {},
     "output_type": "display_data"
    },
    {
     "data": {
      "text/plain": [
       "array([[0, 1, 2],\n",
       "       [3, 4, 5],\n",
       "       [6, 7, 8]])"
      ]
     },
     "metadata": {},
     "output_type": "display_data"
    },
    {
     "data": {
      "text/plain": [
       "array([[15, 18, 21],\n",
       "       [42, 54, 66]])"
      ]
     },
     "metadata": {},
     "output_type": "display_data"
    }
   ],
   "source": [
    "m1 = np.arange(6).reshape(2, 3)\n",
    "m2 = np.arange(9).reshape(3, 3)\n",
    "\n",
    "display(m1, m2, np.dot(m1, m2))"
   ]
  },
  {
   "cell_type": "code",
   "execution_count": 8,
   "metadata": {},
   "outputs": [
    {
     "data": {
      "image/png": "[encoded data removed]",
      "text/plain": [
       "<Figure size 640x480 with 1 Axes>"
      ]
     },
     "metadata": {},
     "output_type": "display_data"
    }
   ],
   "source": [
    "def ReLU(x: np.ndarray) -> np.ndarray:\n",
    "    return np.maximum(x, 0)\n",
    "\n",
    "\n",
    "x = np.linspace(-10, 10, num=50)\n",
    "y = ReLU(x)\n",
    "\n",
    "plt.plot(x, y)\n",
    "plt.grid();"
   ]
  },
  {
   "cell_type": "code",
   "execution_count": 9,
   "metadata": {},
   "outputs": [
    {
     "data": {
      "text/plain": [
       "array([[0, 1],\n",
       "       [2, 3],\n",
       "       [4, 5]])"
      ]
     },
     "metadata": {},
     "output_type": "display_data"
    },
    {
     "data": {
      "text/plain": [
       "array([[0.01587624, 0.01587624],\n",
       "       [0.11731043, 0.11731043],\n",
       "       [0.86681333, 0.86681333]])"
      ]
     },
     "metadata": {},
     "output_type": "display_data"
    }
   ],
   "source": [
    "def softmax(Z: np.ndarray) -> np.ndarray:\n",
    "    safe_Z = Z - Z.max(axis=0)\n",
    "    e_Z = np.exp(safe_Z)\n",
    "    return e_Z / np.sum(e_Z, axis=0)\n",
    "\n",
    "Z = np.arange(6).reshape(3, 2)\n",
    "display(Z, softmax(Z))"
   ]
  },
  {
   "cell_type": "code",
   "execution_count": 10,
   "metadata": {},
   "outputs": [
    {
     "data": {
      "text/plain": [
       "array([0, 1, 2, 3, 4, 5, 6, 7, 8, 9])"
      ]
     },
     "metadata": {},
     "output_type": "display_data"
    },
    {
     "data": {
      "text/plain": [
       "array([[1., 0., 0., 0., 0., 0., 0., 0., 0., 0.],\n",
       "       [0., 1., 0., 0., 0., 0., 0., 0., 0., 0.],\n",
       "       [0., 0., 1., 0., 0., 0., 0., 0., 0., 0.],\n",
       "       [0., 0., 0., 1., 0., 0., 0., 0., 0., 0.],\n",
       "       [0., 0., 0., 0., 1., 0., 0., 0., 0., 0.],\n",
       "       [0., 0., 0., 0., 0., 1., 0., 0., 0., 0.],\n",
       "       [0., 0., 0., 0., 0., 0., 1., 0., 0., 0.],\n",
       "       [0., 0., 0., 0., 0., 0., 0., 1., 0., 0.],\n",
       "       [0., 0., 0., 0., 0., 0., 0., 0., 1., 0.],\n",
       "       [0., 0., 0., 0., 0., 0., 0., 0., 0., 1.]])"
      ]
     },
     "metadata": {},
     "output_type": "display_data"
    }
   ],
   "source": [
    "def one_hot_encode(Y):\n",
    "    encoded = np.zeros((10, Y.size))\n",
    "    encoded[Y, np.arange(Y.size)] = 1\n",
    "    return encoded\n",
    "\n",
    "y = np.arange(10)\n",
    "display(y, one_hot_encode(y))"
   ]
  },
  {
   "cell_type": "code",
   "execution_count": 11,
   "metadata": {},
   "outputs": [
    {
     "data": {
      "text/plain": [
       "array([[1., 0., 0., 0., 0., 0., 0., 0., 0., 0.],\n",
       "       [0., 1., 0., 0., 0., 0., 0., 0., 0., 0.],\n",
       "       [0., 0., 1., 0., 0., 0., 0., 0., 0., 0.],\n",
       "       [0., 0., 0., 1., 0., 0., 0., 0., 0., 0.],\n",
       "       [0., 0., 0., 0., 1., 0., 0., 0., 0., 0.],\n",
       "       [0., 0., 0., 0., 0., 1., 0., 0., 0., 0.],\n",
       "       [0., 0., 0., 0., 0., 0., 1., 0., 0., 0.],\n",
       "       [0., 0., 0., 0., 0., 0., 0., 1., 0., 0.],\n",
       "       [0., 0., 0., 0., 0., 0., 0., 0., 1., 0.],\n",
       "       [0., 0., 0., 0., 0., 0., 0., 0., 0., 1.]])"
      ]
     },
     "metadata": {},
     "output_type": "display_data"
    },
    {
     "data": {
      "text/plain": [
       "array([0, 1, 2, 3, 4, 5, 6, 7, 8, 9], dtype=int64)"
      ]
     },
     "metadata": {},
     "output_type": "display_data"
    }
   ],
   "source": [
    "def one_hot_decode(Z):\n",
    "    decoded = np.argmax(Z, axis=0)\n",
    "    return decoded\n",
    "\n",
    "encoded = one_hot_encode(y)\n",
    "display(encoded, one_hot_decode(encoded))"
   ]
  },
  {
   "cell_type": "code",
   "execution_count": 12,
   "metadata": {},
   "outputs": [
    {
     "data": {
      "text/plain": [
       "array([0, 1, 2, 3])"
      ]
     },
     "metadata": {},
     "output_type": "display_data"
    },
    {
     "data": {
      "text/plain": [
       "array([2, 3, 4, 5])"
      ]
     },
     "metadata": {},
     "output_type": "display_data"
    },
    {
     "data": {
      "text/plain": [
       "4.0"
      ]
     },
     "metadata": {},
     "output_type": "display_data"
    }
   ],
   "source": [
    "def mean_squared_error(A, Y):\n",
    "    return np.mean((A - Y) ** 2)\n",
    "\n",
    "true = np.arange(4)\n",
    "guess = np.arange(2, 6)\n",
    "\n",
    "display(true, guess, mean_squared_error(true, guess))"
   ]
  },
  {
   "cell_type": "code",
   "execution_count": 14,
   "metadata": {},
   "outputs": [
    {
     "data": {
      "text/plain": [
       "array([[0, 1],\n",
       "       [2, 3]])"
      ]
     },
     "metadata": {},
     "output_type": "display_data"
    },
    {
     "data": {
      "text/plain": [
       "array([1, 2])"
      ]
     },
     "metadata": {},
     "output_type": "display_data"
    },
    {
     "data": {
      "text/plain": [
       "array([2, 8])"
      ]
     },
     "metadata": {},
     "output_type": "display_data"
    }
   ],
   "source": [
    "display(m, v, np.dot(m, v))"
   ]
  }
 ],
 "metadata": {
  "kernelspec": {
   "display_name": "ds",
   "language": "python",
   "name": "python3"
  },
  "language_info": {
   "codemirror_mode": {
    "name": "ipython",
    "version": 3
   },
   "file_extension": ".py",
   "mimetype": "text/x-python",
   "name": "python",
   "nbconvert_exporter": "python",
   "pygments_lexer": "ipython3",
   "version": "3.11.0"
  },
  "orig_nbformat": 4
 },
 "nbformat": 4,
 "nbformat_minor": 2
}
